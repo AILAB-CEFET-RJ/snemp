{
 "cells": [
  {
   "cell_type": "code",
   "execution_count": 1,
   "id": "ba23ecbd",
   "metadata": {},
   "outputs": [],
   "source": [
    "import pandas as pd\n",
    "\n",
    "import plotly.express as px"
   ]
  },
  {
   "cell_type": "code",
   "execution_count": 2,
   "id": "ab07e3d9",
   "metadata": {},
   "outputs": [
    {
     "name": "stderr",
     "output_type": "stream",
     "text": [
      "/var/folders/w6/dzl9s8hx3s14fd3jz91prw000000gn/T/ipykernel_20225/219478667.py:1: DtypeWarning: Columns (3) have mixed types. Specify dtype option on import or set low_memory=False.\n",
      "  tce_ml = pd.read_csv('data/tce_ML_more_features.csv', sep=';')\n"
     ]
    }
   ],
   "source": [
    "tce_ml = pd.read_csv('data/tce_ML_more_features.csv', sep=';')"
   ]
  },
  {
   "cell_type": "code",
   "execution_count": 31,
   "id": "b58be840",
   "metadata": {},
   "outputs": [
    {
     "data": {
      "text/plain": [
       "df_index                                                     227018\n",
       "Ano                                                            2021\n",
       "CdFonteTCE                                                        0\n",
       "CPFCNPJCredor                                                   191\n",
       "Credor                                           BANCO DO BRASIL SA\n",
       "DEFonteTCE                                      RECURSOS ORDINARIOS\n",
       "DEPrograma               GESTAO  MANUTENCAO E SERVICOS DO MUNICIPIO\n",
       "DEProjAtiv                                 MANUTENCAO DA SECRETARIA\n",
       "ElemDespesaTCE       OUTROS SERVICOS DE TERCEIROS   PESSOA JURIDICA\n",
       "Funcao                                                ADMINISTRACAO\n",
       "Historico         CHAMAMENTO PUBLICO 01 2020 SFI   PROC  2019021...\n",
       "IdContrato                                           000363087/2020\n",
       "IdPrograma                                                      204\n",
       "IdSubFuncao                                                 2021129\n",
       "IdUnid                                                          363\n",
       "IdOrgao                                           20210020003630008\n",
       "NrFonte                                                    10010000\n",
       "SubFuncao                                 ADMINISTRACAO DE RECEITAS\n",
       "Tp_Empenho                                               ESTIMATIVO\n",
       "Unidade                                   PREFEITURA ANGRA DOS REIS\n",
       "CGProgTrab                                                 33903999\n",
       "Cod_Elem                                                 33904000.0\n",
       "CG                                                         33903999\n",
       "CGtitulo             OUTROS SERVICOS DE TERCEIROS   PESSOA JURIDICA\n",
       "CGtitTCE             OUTROS SERVICOS DE TERCEIROS   PESSOA JURIDICA\n",
       "CGfreq                                                        33616\n",
       "CGroot                                                       339039\n",
       "CGchild                                                    33903999\n",
       "Name: 0, dtype: object"
      ]
     },
     "execution_count": 31,
     "metadata": {},
     "output_type": "execute_result"
    }
   ],
   "source": [
    "tce_ml.loc[0, :]"
   ]
  },
  {
   "cell_type": "code",
   "execution_count": 20,
   "id": "df58d7d4",
   "metadata": {},
   "outputs": [
    {
     "data": {
      "text/html": [
       "<div>\n",
       "<style scoped>\n",
       "    .dataframe tbody tr th:only-of-type {\n",
       "        vertical-align: middle;\n",
       "    }\n",
       "\n",
       "    .dataframe tbody tr th {\n",
       "        vertical-align: top;\n",
       "    }\n",
       "\n",
       "    .dataframe thead th {\n",
       "        text-align: right;\n",
       "    }\n",
       "</style>\n",
       "<table border=\"1\" class=\"dataframe\">\n",
       "  <thead>\n",
       "    <tr style=\"text-align: right;\">\n",
       "      <th></th>\n",
       "      <th>cod</th>\n",
       "      <th>titulo</th>\n",
       "      <th>desc</th>\n",
       "      <th>tituloTCE</th>\n",
       "      <th>freq</th>\n",
       "      <th>level</th>\n",
       "      <th>parent</th>\n",
       "      <th>root</th>\n",
       "      <th>child</th>\n",
       "    </tr>\n",
       "  </thead>\n",
       "  <tbody>\n",
       "    <tr>\n",
       "      <th>0</th>\n",
       "      <td>30000000</td>\n",
       "      <td>DESPESAS CORRENTES</td>\n",
       "      <td>CLASSIFICAM SE NESTA CATEGORIA TODAS AS DESPES...</td>\n",
       "      <td>DESPESAS CORRENTES</td>\n",
       "      <td>0</td>\n",
       "      <td>1 - Categoria</td>\n",
       "      <td>30000000</td>\n",
       "      <td>root</td>\n",
       "      <td>3</td>\n",
       "    </tr>\n",
       "    <tr>\n",
       "      <th>1</th>\n",
       "      <td>31000000</td>\n",
       "      <td>PESSOAL E ENCARGOS SOCIAIS</td>\n",
       "      <td>DESPESAS DE NATUREZA REMUNERATORIA DECORRENTES...</td>\n",
       "      <td>PESSOAL E ENCARGOS SOCIAIS</td>\n",
       "      <td>0</td>\n",
       "      <td>2 - Grupo</td>\n",
       "      <td>30000000</td>\n",
       "      <td>3</td>\n",
       "      <td>31</td>\n",
       "    </tr>\n",
       "    <tr>\n",
       "      <th>2</th>\n",
       "      <td>31200000</td>\n",
       "      <td>TRANSFERENCIAS A UNIAO</td>\n",
       "      <td>0</td>\n",
       "      <td>TRANSFERENCIAS A UNIAO</td>\n",
       "      <td>0</td>\n",
       "      <td>3 - Modalidade</td>\n",
       "      <td>31000000</td>\n",
       "      <td>31</td>\n",
       "      <td>3120</td>\n",
       "    </tr>\n",
       "    <tr>\n",
       "      <th>3</th>\n",
       "      <td>31209600</td>\n",
       "      <td>RESSARCIMENTO DE DESPESAS DE PESSOAL REQUISITADO</td>\n",
       "      <td>RESSARCIMENTO DE DESPESAS DE PESSOAL REQUISITADO</td>\n",
       "      <td>RESSARCIMENTO DE DESPESAS DE PESSOAL REQUISITADO</td>\n",
       "      <td>4</td>\n",
       "      <td>4 - Elemento</td>\n",
       "      <td>31200000</td>\n",
       "      <td>3120</td>\n",
       "      <td>312096</td>\n",
       "    </tr>\n",
       "    <tr>\n",
       "      <th>4</th>\n",
       "      <td>31300000</td>\n",
       "      <td>TRANSFERENCIAS A ESTADOS E AO DISTRITO FEDERAL</td>\n",
       "      <td>0</td>\n",
       "      <td>TRANSFERENCIAS A ESTADOS E AO DISTRITO FEDERAL</td>\n",
       "      <td>0</td>\n",
       "      <td>3 - Modalidade</td>\n",
       "      <td>31000000</td>\n",
       "      <td>31</td>\n",
       "      <td>3130</td>\n",
       "    </tr>\n",
       "    <tr>\n",
       "      <th>...</th>\n",
       "      <td>...</td>\n",
       "      <td>...</td>\n",
       "      <td>...</td>\n",
       "      <td>...</td>\n",
       "      <td>...</td>\n",
       "      <td>...</td>\n",
       "      <td>...</td>\n",
       "      <td>...</td>\n",
       "      <td>...</td>\n",
       "    </tr>\n",
       "    <tr>\n",
       "      <th>1769</th>\n",
       "      <td>90000000</td>\n",
       "      <td>RESERVA DE CONTINGENCIA</td>\n",
       "      <td>RESERVA DE CONTINGENCIA</td>\n",
       "      <td>RESERVA DE CONTINGENCIA</td>\n",
       "      <td>0</td>\n",
       "      <td>1 - Categoria</td>\n",
       "      <td>90000000</td>\n",
       "      <td>root</td>\n",
       "      <td>9</td>\n",
       "    </tr>\n",
       "    <tr>\n",
       "      <th>1770</th>\n",
       "      <td>99000000</td>\n",
       "      <td>RESERVA DE CONTINGENCIA</td>\n",
       "      <td>0</td>\n",
       "      <td>RESERVA DE CONTINGENCIA</td>\n",
       "      <td>0</td>\n",
       "      <td>2 - Grupo</td>\n",
       "      <td>90000000</td>\n",
       "      <td>9</td>\n",
       "      <td>99</td>\n",
       "    </tr>\n",
       "    <tr>\n",
       "      <th>1771</th>\n",
       "      <td>99990000</td>\n",
       "      <td>RESERVA DE CONTINGENCIA</td>\n",
       "      <td>DESTINADA AO ATENDIMENTO DO DISPOSTO NO ART  5...</td>\n",
       "      <td>RESERVA DE CONTINGENCIA</td>\n",
       "      <td>0</td>\n",
       "      <td>3 - Modalidade</td>\n",
       "      <td>99000000</td>\n",
       "      <td>99</td>\n",
       "      <td>9999</td>\n",
       "    </tr>\n",
       "    <tr>\n",
       "      <th>1772</th>\n",
       "      <td>99999900</td>\n",
       "      <td>RESERVA DE CONTINGENCIA</td>\n",
       "      <td>DESTINADA AO ATENDIMENTO DO DISPOSTO NO ART  5...</td>\n",
       "      <td>RESERVA DE CONTINGENCIA</td>\n",
       "      <td>0</td>\n",
       "      <td>4 - Elemento</td>\n",
       "      <td>99990000</td>\n",
       "      <td>9999</td>\n",
       "      <td>999999</td>\n",
       "    </tr>\n",
       "    <tr>\n",
       "      <th>1773</th>\n",
       "      <td>99999999</td>\n",
       "      <td>RESERVA DE CONTINGENCIA</td>\n",
       "      <td>DESTINADA AO ATENDIMENTO DO DISPOSTO NO ART  5...</td>\n",
       "      <td>RESERVA DE CONTINGENCIA</td>\n",
       "      <td>0</td>\n",
       "      <td>U - Subelemento</td>\n",
       "      <td>99999900</td>\n",
       "      <td>999999</td>\n",
       "      <td>99999999</td>\n",
       "    </tr>\n",
       "  </tbody>\n",
       "</table>\n",
       "<p>1774 rows × 9 columns</p>\n",
       "</div>"
      ],
      "text/plain": [
       "           cod                                            titulo  \\\n",
       "0     30000000                                DESPESAS CORRENTES   \n",
       "1     31000000                        PESSOAL E ENCARGOS SOCIAIS   \n",
       "2     31200000                            TRANSFERENCIAS A UNIAO   \n",
       "3     31209600  RESSARCIMENTO DE DESPESAS DE PESSOAL REQUISITADO   \n",
       "4     31300000    TRANSFERENCIAS A ESTADOS E AO DISTRITO FEDERAL   \n",
       "...        ...                                               ...   \n",
       "1769  90000000                           RESERVA DE CONTINGENCIA   \n",
       "1770  99000000                           RESERVA DE CONTINGENCIA   \n",
       "1771  99990000                           RESERVA DE CONTINGENCIA   \n",
       "1772  99999900                           RESERVA DE CONTINGENCIA   \n",
       "1773  99999999                           RESERVA DE CONTINGENCIA   \n",
       "\n",
       "                                                   desc  \\\n",
       "0     CLASSIFICAM SE NESTA CATEGORIA TODAS AS DESPES...   \n",
       "1     DESPESAS DE NATUREZA REMUNERATORIA DECORRENTES...   \n",
       "2                                                     0   \n",
       "3      RESSARCIMENTO DE DESPESAS DE PESSOAL REQUISITADO   \n",
       "4                                                     0   \n",
       "...                                                 ...   \n",
       "1769                            RESERVA DE CONTINGENCIA   \n",
       "1770                                                  0   \n",
       "1771  DESTINADA AO ATENDIMENTO DO DISPOSTO NO ART  5...   \n",
       "1772  DESTINADA AO ATENDIMENTO DO DISPOSTO NO ART  5...   \n",
       "1773  DESTINADA AO ATENDIMENTO DO DISPOSTO NO ART  5...   \n",
       "\n",
       "                                             tituloTCE  freq            level  \\\n",
       "0                                   DESPESAS CORRENTES     0    1 - Categoria   \n",
       "1                           PESSOAL E ENCARGOS SOCIAIS     0        2 - Grupo   \n",
       "2                               TRANSFERENCIAS A UNIAO     0   3 - Modalidade   \n",
       "3     RESSARCIMENTO DE DESPESAS DE PESSOAL REQUISITADO     4     4 - Elemento   \n",
       "4       TRANSFERENCIAS A ESTADOS E AO DISTRITO FEDERAL     0   3 - Modalidade   \n",
       "...                                                ...   ...              ...   \n",
       "1769                           RESERVA DE CONTINGENCIA     0    1 - Categoria   \n",
       "1770                           RESERVA DE CONTINGENCIA     0        2 - Grupo   \n",
       "1771                           RESERVA DE CONTINGENCIA     0   3 - Modalidade   \n",
       "1772                           RESERVA DE CONTINGENCIA     0     4 - Elemento   \n",
       "1773                           RESERVA DE CONTINGENCIA     0  U - Subelemento   \n",
       "\n",
       "        parent    root     child  \n",
       "0     30000000    root         3  \n",
       "1     30000000       3        31  \n",
       "2     31000000      31      3120  \n",
       "3     31200000    3120    312096  \n",
       "4     31000000      31      3130  \n",
       "...        ...     ...       ...  \n",
       "1769  90000000    root         9  \n",
       "1770  90000000       9        99  \n",
       "1771  99000000      99      9999  \n",
       "1772  99990000    9999    999999  \n",
       "1773  99999900  999999  99999999  \n",
       "\n",
       "[1774 rows x 9 columns]"
      ]
     },
     "execution_count": 20,
     "metadata": {},
     "output_type": "execute_result"
    }
   ],
   "source": [
    "codigos = pd.read_csv('data/cd_list.csv', sep=';', dtype={'cod':str})\n",
    "codigos"
   ]
  },
  {
   "cell_type": "code",
   "execution_count": 27,
   "id": "41a9bd02",
   "metadata": {},
   "outputs": [
    {
     "data": {
      "text/html": [
       "<div>\n",
       "<style scoped>\n",
       "    .dataframe tbody tr th:only-of-type {\n",
       "        vertical-align: middle;\n",
       "    }\n",
       "\n",
       "    .dataframe tbody tr th {\n",
       "        vertical-align: top;\n",
       "    }\n",
       "\n",
       "    .dataframe thead th {\n",
       "        text-align: right;\n",
       "    }\n",
       "</style>\n",
       "<table border=\"1\" class=\"dataframe\">\n",
       "  <thead>\n",
       "    <tr style=\"text-align: right;\">\n",
       "      <th></th>\n",
       "      <th>cod</th>\n",
       "      <th>titulo</th>\n",
       "      <th>desc</th>\n",
       "      <th>tituloTCE</th>\n",
       "      <th>freq</th>\n",
       "      <th>level</th>\n",
       "      <th>parent</th>\n",
       "      <th>root</th>\n",
       "      <th>child</th>\n",
       "    </tr>\n",
       "  </thead>\n",
       "  <tbody>\n",
       "    <tr>\n",
       "      <th>953</th>\n",
       "      <td>33903999</td>\n",
       "      <td>OUTROS SERVICOS DE TERCEIROS   PESSOA JURIDICA</td>\n",
       "      <td>OUTROS SERVICOS DE TERCEIROS   PESSOA JURIDICA</td>\n",
       "      <td>OUTROS SERVICOS DE TERCEIROS   PESSOA JURIDICA</td>\n",
       "      <td>33616</td>\n",
       "      <td>U - Subelemento</td>\n",
       "      <td>33903900</td>\n",
       "      <td>339039</td>\n",
       "      <td>33903999</td>\n",
       "    </tr>\n",
       "  </tbody>\n",
       "</table>\n",
       "</div>"
      ],
      "text/plain": [
       "          cod                                          titulo  \\\n",
       "953  33903999  OUTROS SERVICOS DE TERCEIROS   PESSOA JURIDICA   \n",
       "\n",
       "                                               desc  \\\n",
       "953  OUTROS SERVICOS DE TERCEIROS   PESSOA JURIDICA   \n",
       "\n",
       "                                          tituloTCE   freq            level  \\\n",
       "953  OUTROS SERVICOS DE TERCEIROS   PESSOA JURIDICA  33616  U - Subelemento   \n",
       "\n",
       "       parent    root     child  \n",
       "953  33903900  339039  33903999  "
      ]
     },
     "execution_count": 27,
     "metadata": {},
     "output_type": "execute_result"
    }
   ],
   "source": [
    "codigos[codigos.cod == '33903999']"
   ]
  },
  {
   "cell_type": "code",
   "execution_count": 25,
   "id": "895fd135",
   "metadata": {},
   "outputs": [
    {
     "data": {
      "text/html": [
       "<div>\n",
       "<style scoped>\n",
       "    .dataframe tbody tr th:only-of-type {\n",
       "        vertical-align: middle;\n",
       "    }\n",
       "\n",
       "    .dataframe tbody tr th {\n",
       "        vertical-align: top;\n",
       "    }\n",
       "\n",
       "    .dataframe thead th {\n",
       "        text-align: right;\n",
       "    }\n",
       "</style>\n",
       "<table border=\"1\" class=\"dataframe\">\n",
       "  <thead>\n",
       "    <tr style=\"text-align: right;\">\n",
       "      <th></th>\n",
       "      <th>index</th>\n",
       "      <th>DEFonteTCE</th>\n",
       "    </tr>\n",
       "  </thead>\n",
       "  <tbody>\n",
       "    <tr>\n",
       "      <th>0</th>\n",
       "      <td>RECURSOS ORDINARIOS</td>\n",
       "      <td>0.387913</td>\n",
       "    </tr>\n",
       "    <tr>\n",
       "      <th>1</th>\n",
       "      <td>ORDINARIOS</td>\n",
       "      <td>0.175338</td>\n",
       "    </tr>\n",
       "    <tr>\n",
       "      <th>2</th>\n",
       "      <td>ROYALTIES 5    LEI 7990 89</td>\n",
       "      <td>0.041286</td>\n",
       "    </tr>\n",
       "    <tr>\n",
       "      <th>3</th>\n",
       "      <td>TRANSFERENCIAS DO SISTEMA UNICO DE SAUDE   BLO...</td>\n",
       "      <td>0.040646</td>\n",
       "    </tr>\n",
       "    <tr>\n",
       "      <th>4</th>\n",
       "      <td>TRANSFERENCIAS DO FUNDEB  60</td>\n",
       "      <td>0.028966</td>\n",
       "    </tr>\n",
       "    <tr>\n",
       "      <th>...</th>\n",
       "      <td>...</td>\n",
       "      <td>...</td>\n",
       "    </tr>\n",
       "    <tr>\n",
       "      <th>75</th>\n",
       "      <td>CONVENIOS TRANSF  DA UNIAO DECORRENTES DE EMEN...</td>\n",
       "      <td>0.000014</td>\n",
       "    </tr>\n",
       "    <tr>\n",
       "      <th>76</th>\n",
       "      <td>CONVENIOS CONTRATOS REPASSE SAUDE  TRANSF  DA ...</td>\n",
       "      <td>0.000005</td>\n",
       "    </tr>\n",
       "    <tr>\n",
       "      <th>77</th>\n",
       "      <td>CONVENIOS TRANSF  DA UNIAO DECORRENTES DE EMEN...</td>\n",
       "      <td>0.000005</td>\n",
       "    </tr>\n",
       "    <tr>\n",
       "      <th>78</th>\n",
       "      <td>ALIENACAO DE BENS DESTINADOS A PROGRAMAS DE ED...</td>\n",
       "      <td>0.000005</td>\n",
       "    </tr>\n",
       "    <tr>\n",
       "      <th>79</th>\n",
       "      <td>TRANSFERENCIAS DE CONVENIOS OU DE CONTRATOS DE...</td>\n",
       "      <td>0.000005</td>\n",
       "    </tr>\n",
       "  </tbody>\n",
       "</table>\n",
       "<p>80 rows × 2 columns</p>\n",
       "</div>"
      ],
      "text/plain": [
       "                                                index  DEFonteTCE\n",
       "0                                 RECURSOS ORDINARIOS    0.387913\n",
       "1                                          ORDINARIOS    0.175338\n",
       "2                          ROYALTIES 5    LEI 7990 89    0.041286\n",
       "3   TRANSFERENCIAS DO SISTEMA UNICO DE SAUDE   BLO...    0.040646\n",
       "4                       TRANSFERENCIAS DO FUNDEB  60     0.028966\n",
       "..                                                ...         ...\n",
       "75  CONVENIOS TRANSF  DA UNIAO DECORRENTES DE EMEN...    0.000014\n",
       "76  CONVENIOS CONTRATOS REPASSE SAUDE  TRANSF  DA ...    0.000005\n",
       "77  CONVENIOS TRANSF  DA UNIAO DECORRENTES DE EMEN...    0.000005\n",
       "78  ALIENACAO DE BENS DESTINADOS A PROGRAMAS DE ED...    0.000005\n",
       "79  TRANSFERENCIAS DE CONVENIOS OU DE CONTRATOS DE...    0.000005\n",
       "\n",
       "[80 rows x 2 columns]"
      ]
     },
     "metadata": {},
     "output_type": "display_data"
    },
    {
     "data": {
      "application/vnd.plotly.v1+json": {
       "config": {
        "plotlyServerURL": "https://plot.ly"
       },
       "data": [
        {
         "alignmentgroup": "True",
         "hovertemplate": "variable=DEFonteTCE<br>index=%{x}<br>value=%{y}<extra></extra>",
         "legendgroup": "DEFonteTCE",
         "marker": {
          "color": "#636efa",
          "pattern": {
           "shape": ""
          }
         },
         "name": "DEFonteTCE",
         "offsetgroup": "DEFonteTCE",
         "orientation": "v",
         "showlegend": true,
         "textposition": "auto",
         "type": "bar",
         "x": [
          0,
          1,
          2,
          3,
          4,
          5,
          6,
          7,
          8,
          9,
          10,
          11,
          12,
          13,
          14,
          15,
          16,
          17,
          18,
          19,
          20,
          21,
          22,
          23,
          24,
          25,
          26,
          27,
          28,
          29,
          30,
          31,
          32,
          33,
          34,
          35,
          36,
          37,
          38,
          39,
          40,
          41,
          42,
          43,
          44,
          45,
          46,
          47,
          48,
          49,
          50,
          51,
          52,
          53,
          54,
          55,
          56,
          57,
          58,
          59,
          60,
          61,
          62,
          63,
          64,
          65,
          66,
          67,
          68,
          69,
          70,
          71,
          72,
          73,
          74,
          75,
          76,
          77,
          78,
          79
         ],
         "xaxis": "x",
         "y": [
          0.387913354017966,
          0.17533811725222662,
          0.04128639929627629,
          0.0406457812432771,
          0.02896645360538884,
          0.028282808966740448,
          0.020915701357249742,
          0.020217714523384948,
          0.019725299154288556,
          0.01772695328747018,
          0.01765046157964938,
          0.015733388152390605,
          0.01130164983052306,
          0.011167789341836662,
          0.011081736170538262,
          0.010646689582307469,
          0.010594101533180668,
          0.010230765921031873,
          0.008758300545481492,
          0.008347157615944697,
          0.007520091025132306,
          0.007510529561654707,
          0.006960745411692714,
          0.0068221041912675156,
          0.005383103937888733,
          0.005273147107896335,
          0.004694678567501542,
          0.004273974174487147,
          0.0039058578305995514,
          0.003494714901062757,
          0.00321743246021236,
          0.00320309026499596,
          0.003136160020652761,
          0.0025385685533027683,
          0.0024907612359147692,
          0.002328216356795571,
          0.0022947512346239715,
          0.0018883890368259766,
          0.0018118973290051775,
          0.001778432206833578,
          0.0017258441577067787,
          0.0016780368403187791,
          0.0016780368403187791,
          0.0016589139133635794,
          0.0015632992785875807,
          0.0014915883025055814,
          0.001372070009035583,
          0.0013433856186027833,
          0.0012143058616551849,
          0.0009991729334091876,
          0.0008939968351555889,
          0.0007171097608199911,
          0.0006645217116931917,
          0.0006119336625663924,
          0.0005928107356111927,
          0.000487634637357594,
          0.0004685117104023942,
          0.00043026585649199467,
          0.00041592366127559484,
          0.0003776778073651953,
          0.00032030902649959604,
          0.0003155282947607961,
          0.00029640536780559633,
          0.0002820631725891965,
          0.0002677209773727967,
          0.00021513292824599733,
          0.00019122926955199762,
          0.00015776414738039805,
          0.00011473756173119858,
          0.00010995682999239864,
          8.605317129839894e-05,
          6.693024434319917e-05,
          4.7807317387999405e-05,
          2.8684390432799645e-05,
          2.3903658693999703e-05,
          1.4342195216399823e-05,
          4.780731738799941e-06,
          4.780731738799941e-06,
          4.780731738799941e-06,
          4.780731738799941e-06
         ],
         "yaxis": "y"
        }
       ],
       "layout": {
        "barmode": "relative",
        "legend": {
         "title": {
          "text": "variable"
         },
         "tracegroupgap": 0
        },
        "margin": {
         "t": 60
        },
        "template": {
         "data": {
          "bar": [
           {
            "error_x": {
             "color": "#2a3f5f"
            },
            "error_y": {
             "color": "#2a3f5f"
            },
            "marker": {
             "line": {
              "color": "#E5ECF6",
              "width": 0.5
             },
             "pattern": {
              "fillmode": "overlay",
              "size": 10,
              "solidity": 0.2
             }
            },
            "type": "bar"
           }
          ],
          "barpolar": [
           {
            "marker": {
             "line": {
              "color": "#E5ECF6",
              "width": 0.5
             },
             "pattern": {
              "fillmode": "overlay",
              "size": 10,
              "solidity": 0.2
             }
            },
            "type": "barpolar"
           }
          ],
          "carpet": [
           {
            "aaxis": {
             "endlinecolor": "#2a3f5f",
             "gridcolor": "white",
             "linecolor": "white",
             "minorgridcolor": "white",
             "startlinecolor": "#2a3f5f"
            },
            "baxis": {
             "endlinecolor": "#2a3f5f",
             "gridcolor": "white",
             "linecolor": "white",
             "minorgridcolor": "white",
             "startlinecolor": "#2a3f5f"
            },
            "type": "carpet"
           }
          ],
          "choropleth": [
           {
            "colorbar": {
             "outlinewidth": 0,
             "ticks": ""
            },
            "type": "choropleth"
           }
          ],
          "contour": [
           {
            "colorbar": {
             "outlinewidth": 0,
             "ticks": ""
            },
            "colorscale": [
             [
              0,
              "#0d0887"
             ],
             [
              0.1111111111111111,
              "#46039f"
             ],
             [
              0.2222222222222222,
              "#7201a8"
             ],
             [
              0.3333333333333333,
              "#9c179e"
             ],
             [
              0.4444444444444444,
              "#bd3786"
             ],
             [
              0.5555555555555556,
              "#d8576b"
             ],
             [
              0.6666666666666666,
              "#ed7953"
             ],
             [
              0.7777777777777778,
              "#fb9f3a"
             ],
             [
              0.8888888888888888,
              "#fdca26"
             ],
             [
              1,
              "#f0f921"
             ]
            ],
            "type": "contour"
           }
          ],
          "contourcarpet": [
           {
            "colorbar": {
             "outlinewidth": 0,
             "ticks": ""
            },
            "type": "contourcarpet"
           }
          ],
          "heatmap": [
           {
            "colorbar": {
             "outlinewidth": 0,
             "ticks": ""
            },
            "colorscale": [
             [
              0,
              "#0d0887"
             ],
             [
              0.1111111111111111,
              "#46039f"
             ],
             [
              0.2222222222222222,
              "#7201a8"
             ],
             [
              0.3333333333333333,
              "#9c179e"
             ],
             [
              0.4444444444444444,
              "#bd3786"
             ],
             [
              0.5555555555555556,
              "#d8576b"
             ],
             [
              0.6666666666666666,
              "#ed7953"
             ],
             [
              0.7777777777777778,
              "#fb9f3a"
             ],
             [
              0.8888888888888888,
              "#fdca26"
             ],
             [
              1,
              "#f0f921"
             ]
            ],
            "type": "heatmap"
           }
          ],
          "heatmapgl": [
           {
            "colorbar": {
             "outlinewidth": 0,
             "ticks": ""
            },
            "colorscale": [
             [
              0,
              "#0d0887"
             ],
             [
              0.1111111111111111,
              "#46039f"
             ],
             [
              0.2222222222222222,
              "#7201a8"
             ],
             [
              0.3333333333333333,
              "#9c179e"
             ],
             [
              0.4444444444444444,
              "#bd3786"
             ],
             [
              0.5555555555555556,
              "#d8576b"
             ],
             [
              0.6666666666666666,
              "#ed7953"
             ],
             [
              0.7777777777777778,
              "#fb9f3a"
             ],
             [
              0.8888888888888888,
              "#fdca26"
             ],
             [
              1,
              "#f0f921"
             ]
            ],
            "type": "heatmapgl"
           }
          ],
          "histogram": [
           {
            "marker": {
             "pattern": {
              "fillmode": "overlay",
              "size": 10,
              "solidity": 0.2
             }
            },
            "type": "histogram"
           }
          ],
          "histogram2d": [
           {
            "colorbar": {
             "outlinewidth": 0,
             "ticks": ""
            },
            "colorscale": [
             [
              0,
              "#0d0887"
             ],
             [
              0.1111111111111111,
              "#46039f"
             ],
             [
              0.2222222222222222,
              "#7201a8"
             ],
             [
              0.3333333333333333,
              "#9c179e"
             ],
             [
              0.4444444444444444,
              "#bd3786"
             ],
             [
              0.5555555555555556,
              "#d8576b"
             ],
             [
              0.6666666666666666,
              "#ed7953"
             ],
             [
              0.7777777777777778,
              "#fb9f3a"
             ],
             [
              0.8888888888888888,
              "#fdca26"
             ],
             [
              1,
              "#f0f921"
             ]
            ],
            "type": "histogram2d"
           }
          ],
          "histogram2dcontour": [
           {
            "colorbar": {
             "outlinewidth": 0,
             "ticks": ""
            },
            "colorscale": [
             [
              0,
              "#0d0887"
             ],
             [
              0.1111111111111111,
              "#46039f"
             ],
             [
              0.2222222222222222,
              "#7201a8"
             ],
             [
              0.3333333333333333,
              "#9c179e"
             ],
             [
              0.4444444444444444,
              "#bd3786"
             ],
             [
              0.5555555555555556,
              "#d8576b"
             ],
             [
              0.6666666666666666,
              "#ed7953"
             ],
             [
              0.7777777777777778,
              "#fb9f3a"
             ],
             [
              0.8888888888888888,
              "#fdca26"
             ],
             [
              1,
              "#f0f921"
             ]
            ],
            "type": "histogram2dcontour"
           }
          ],
          "mesh3d": [
           {
            "colorbar": {
             "outlinewidth": 0,
             "ticks": ""
            },
            "type": "mesh3d"
           }
          ],
          "parcoords": [
           {
            "line": {
             "colorbar": {
              "outlinewidth": 0,
              "ticks": ""
             }
            },
            "type": "parcoords"
           }
          ],
          "pie": [
           {
            "automargin": true,
            "type": "pie"
           }
          ],
          "scatter": [
           {
            "fillpattern": {
             "fillmode": "overlay",
             "size": 10,
             "solidity": 0.2
            },
            "type": "scatter"
           }
          ],
          "scatter3d": [
           {
            "line": {
             "colorbar": {
              "outlinewidth": 0,
              "ticks": ""
             }
            },
            "marker": {
             "colorbar": {
              "outlinewidth": 0,
              "ticks": ""
             }
            },
            "type": "scatter3d"
           }
          ],
          "scattercarpet": [
           {
            "marker": {
             "colorbar": {
              "outlinewidth": 0,
              "ticks": ""
             }
            },
            "type": "scattercarpet"
           }
          ],
          "scattergeo": [
           {
            "marker": {
             "colorbar": {
              "outlinewidth": 0,
              "ticks": ""
             }
            },
            "type": "scattergeo"
           }
          ],
          "scattergl": [
           {
            "marker": {
             "colorbar": {
              "outlinewidth": 0,
              "ticks": ""
             }
            },
            "type": "scattergl"
           }
          ],
          "scattermapbox": [
           {
            "marker": {
             "colorbar": {
              "outlinewidth": 0,
              "ticks": ""
             }
            },
            "type": "scattermapbox"
           }
          ],
          "scatterpolar": [
           {
            "marker": {
             "colorbar": {
              "outlinewidth": 0,
              "ticks": ""
             }
            },
            "type": "scatterpolar"
           }
          ],
          "scatterpolargl": [
           {
            "marker": {
             "colorbar": {
              "outlinewidth": 0,
              "ticks": ""
             }
            },
            "type": "scatterpolargl"
           }
          ],
          "scatterternary": [
           {
            "marker": {
             "colorbar": {
              "outlinewidth": 0,
              "ticks": ""
             }
            },
            "type": "scatterternary"
           }
          ],
          "surface": [
           {
            "colorbar": {
             "outlinewidth": 0,
             "ticks": ""
            },
            "colorscale": [
             [
              0,
              "#0d0887"
             ],
             [
              0.1111111111111111,
              "#46039f"
             ],
             [
              0.2222222222222222,
              "#7201a8"
             ],
             [
              0.3333333333333333,
              "#9c179e"
             ],
             [
              0.4444444444444444,
              "#bd3786"
             ],
             [
              0.5555555555555556,
              "#d8576b"
             ],
             [
              0.6666666666666666,
              "#ed7953"
             ],
             [
              0.7777777777777778,
              "#fb9f3a"
             ],
             [
              0.8888888888888888,
              "#fdca26"
             ],
             [
              1,
              "#f0f921"
             ]
            ],
            "type": "surface"
           }
          ],
          "table": [
           {
            "cells": {
             "fill": {
              "color": "#EBF0F8"
             },
             "line": {
              "color": "white"
             }
            },
            "header": {
             "fill": {
              "color": "#C8D4E3"
             },
             "line": {
              "color": "white"
             }
            },
            "type": "table"
           }
          ]
         },
         "layout": {
          "annotationdefaults": {
           "arrowcolor": "#2a3f5f",
           "arrowhead": 0,
           "arrowwidth": 1
          },
          "autotypenumbers": "strict",
          "coloraxis": {
           "colorbar": {
            "outlinewidth": 0,
            "ticks": ""
           }
          },
          "colorscale": {
           "diverging": [
            [
             0,
             "#8e0152"
            ],
            [
             0.1,
             "#c51b7d"
            ],
            [
             0.2,
             "#de77ae"
            ],
            [
             0.3,
             "#f1b6da"
            ],
            [
             0.4,
             "#fde0ef"
            ],
            [
             0.5,
             "#f7f7f7"
            ],
            [
             0.6,
             "#e6f5d0"
            ],
            [
             0.7,
             "#b8e186"
            ],
            [
             0.8,
             "#7fbc41"
            ],
            [
             0.9,
             "#4d9221"
            ],
            [
             1,
             "#276419"
            ]
           ],
           "sequential": [
            [
             0,
             "#0d0887"
            ],
            [
             0.1111111111111111,
             "#46039f"
            ],
            [
             0.2222222222222222,
             "#7201a8"
            ],
            [
             0.3333333333333333,
             "#9c179e"
            ],
            [
             0.4444444444444444,
             "#bd3786"
            ],
            [
             0.5555555555555556,
             "#d8576b"
            ],
            [
             0.6666666666666666,
             "#ed7953"
            ],
            [
             0.7777777777777778,
             "#fb9f3a"
            ],
            [
             0.8888888888888888,
             "#fdca26"
            ],
            [
             1,
             "#f0f921"
            ]
           ],
           "sequentialminus": [
            [
             0,
             "#0d0887"
            ],
            [
             0.1111111111111111,
             "#46039f"
            ],
            [
             0.2222222222222222,
             "#7201a8"
            ],
            [
             0.3333333333333333,
             "#9c179e"
            ],
            [
             0.4444444444444444,
             "#bd3786"
            ],
            [
             0.5555555555555556,
             "#d8576b"
            ],
            [
             0.6666666666666666,
             "#ed7953"
            ],
            [
             0.7777777777777778,
             "#fb9f3a"
            ],
            [
             0.8888888888888888,
             "#fdca26"
            ],
            [
             1,
             "#f0f921"
            ]
           ]
          },
          "colorway": [
           "#636efa",
           "#EF553B",
           "#00cc96",
           "#ab63fa",
           "#FFA15A",
           "#19d3f3",
           "#FF6692",
           "#B6E880",
           "#FF97FF",
           "#FECB52"
          ],
          "font": {
           "color": "#2a3f5f"
          },
          "geo": {
           "bgcolor": "white",
           "lakecolor": "white",
           "landcolor": "#E5ECF6",
           "showlakes": true,
           "showland": true,
           "subunitcolor": "white"
          },
          "hoverlabel": {
           "align": "left"
          },
          "hovermode": "closest",
          "mapbox": {
           "style": "light"
          },
          "paper_bgcolor": "white",
          "plot_bgcolor": "#E5ECF6",
          "polar": {
           "angularaxis": {
            "gridcolor": "white",
            "linecolor": "white",
            "ticks": ""
           },
           "bgcolor": "#E5ECF6",
           "radialaxis": {
            "gridcolor": "white",
            "linecolor": "white",
            "ticks": ""
           }
          },
          "scene": {
           "xaxis": {
            "backgroundcolor": "#E5ECF6",
            "gridcolor": "white",
            "gridwidth": 2,
            "linecolor": "white",
            "showbackground": true,
            "ticks": "",
            "zerolinecolor": "white"
           },
           "yaxis": {
            "backgroundcolor": "#E5ECF6",
            "gridcolor": "white",
            "gridwidth": 2,
            "linecolor": "white",
            "showbackground": true,
            "ticks": "",
            "zerolinecolor": "white"
           },
           "zaxis": {
            "backgroundcolor": "#E5ECF6",
            "gridcolor": "white",
            "gridwidth": 2,
            "linecolor": "white",
            "showbackground": true,
            "ticks": "",
            "zerolinecolor": "white"
           }
          },
          "shapedefaults": {
           "line": {
            "color": "#2a3f5f"
           }
          },
          "ternary": {
           "aaxis": {
            "gridcolor": "white",
            "linecolor": "white",
            "ticks": ""
           },
           "baxis": {
            "gridcolor": "white",
            "linecolor": "white",
            "ticks": ""
           },
           "bgcolor": "#E5ECF6",
           "caxis": {
            "gridcolor": "white",
            "linecolor": "white",
            "ticks": ""
           }
          },
          "title": {
           "x": 0.05
          },
          "xaxis": {
           "automargin": true,
           "gridcolor": "white",
           "linecolor": "white",
           "ticks": "",
           "title": {
            "standoff": 15
           },
           "zerolinecolor": "white",
           "zerolinewidth": 2
          },
          "yaxis": {
           "automargin": true,
           "gridcolor": "white",
           "linecolor": "white",
           "ticks": "",
           "title": {
            "standoff": 15
           },
           "zerolinecolor": "white",
           "zerolinewidth": 2
          }
         }
        },
        "xaxis": {
         "anchor": "y",
         "domain": [
          0,
          1
         ],
         "title": {
          "text": "index"
         }
        },
        "yaxis": {
         "anchor": "x",
         "domain": [
          0,
          1
         ],
         "title": {
          "text": "value"
         }
        }
       }
      },
      "text/html": [
       "<div>                            <div id=\"c518cc45-05e4-42ea-9b49-f86c7bbe6043\" class=\"plotly-graph-div\" style=\"height:525px; width:100%;\"></div>            <script type=\"text/javascript\">                require([\"plotly\"], function(Plotly) {                    window.PLOTLYENV=window.PLOTLYENV || {};                                    if (document.getElementById(\"c518cc45-05e4-42ea-9b49-f86c7bbe6043\")) {                    Plotly.newPlot(                        \"c518cc45-05e4-42ea-9b49-f86c7bbe6043\",                        [{\"alignmentgroup\":\"True\",\"hovertemplate\":\"variable=DEFonteTCE<br>index=%{x}<br>value=%{y}<extra></extra>\",\"legendgroup\":\"DEFonteTCE\",\"marker\":{\"color\":\"#636efa\",\"pattern\":{\"shape\":\"\"}},\"name\":\"DEFonteTCE\",\"offsetgroup\":\"DEFonteTCE\",\"orientation\":\"v\",\"showlegend\":true,\"textposition\":\"auto\",\"x\":[0,1,2,3,4,5,6,7,8,9,10,11,12,13,14,15,16,17,18,19,20,21,22,23,24,25,26,27,28,29,30,31,32,33,34,35,36,37,38,39,40,41,42,43,44,45,46,47,48,49,50,51,52,53,54,55,56,57,58,59,60,61,62,63,64,65,66,67,68,69,70,71,72,73,74,75,76,77,78,79],\"xaxis\":\"x\",\"y\":[0.387913354017966,0.17533811725222662,0.04128639929627629,0.0406457812432771,0.02896645360538884,0.028282808966740448,0.020915701357249742,0.020217714523384948,0.019725299154288556,0.01772695328747018,0.01765046157964938,0.015733388152390605,0.01130164983052306,0.011167789341836662,0.011081736170538262,0.010646689582307469,0.010594101533180668,0.010230765921031873,0.008758300545481492,0.008347157615944697,0.007520091025132306,0.007510529561654707,0.006960745411692714,0.0068221041912675156,0.005383103937888733,0.005273147107896335,0.004694678567501542,0.004273974174487147,0.0039058578305995514,0.003494714901062757,0.00321743246021236,0.00320309026499596,0.003136160020652761,0.0025385685533027683,0.0024907612359147692,0.002328216356795571,0.0022947512346239715,0.0018883890368259766,0.0018118973290051775,0.001778432206833578,0.0017258441577067787,0.0016780368403187791,0.0016780368403187791,0.0016589139133635794,0.0015632992785875807,0.0014915883025055814,0.001372070009035583,0.0013433856186027833,0.0012143058616551849,0.0009991729334091876,0.0008939968351555889,0.0007171097608199911,0.0006645217116931917,0.0006119336625663924,0.0005928107356111927,0.000487634637357594,0.0004685117104023942,0.00043026585649199467,0.00041592366127559484,0.0003776778073651953,0.00032030902649959604,0.0003155282947607961,0.00029640536780559633,0.0002820631725891965,0.0002677209773727967,0.00021513292824599733,0.00019122926955199762,0.00015776414738039805,0.00011473756173119858,0.00010995682999239864,8.605317129839894e-05,6.693024434319917e-05,4.7807317387999405e-05,2.8684390432799645e-05,2.3903658693999703e-05,1.4342195216399823e-05,4.780731738799941e-06,4.780731738799941e-06,4.780731738799941e-06,4.780731738799941e-06],\"yaxis\":\"y\",\"type\":\"bar\"}],                        {\"template\":{\"data\":{\"histogram2dcontour\":[{\"type\":\"histogram2dcontour\",\"colorbar\":{\"outlinewidth\":0,\"ticks\":\"\"},\"colorscale\":[[0.0,\"#0d0887\"],[0.1111111111111111,\"#46039f\"],[0.2222222222222222,\"#7201a8\"],[0.3333333333333333,\"#9c179e\"],[0.4444444444444444,\"#bd3786\"],[0.5555555555555556,\"#d8576b\"],[0.6666666666666666,\"#ed7953\"],[0.7777777777777778,\"#fb9f3a\"],[0.8888888888888888,\"#fdca26\"],[1.0,\"#f0f921\"]]}],\"choropleth\":[{\"type\":\"choropleth\",\"colorbar\":{\"outlinewidth\":0,\"ticks\":\"\"}}],\"histogram2d\":[{\"type\":\"histogram2d\",\"colorbar\":{\"outlinewidth\":0,\"ticks\":\"\"},\"colorscale\":[[0.0,\"#0d0887\"],[0.1111111111111111,\"#46039f\"],[0.2222222222222222,\"#7201a8\"],[0.3333333333333333,\"#9c179e\"],[0.4444444444444444,\"#bd3786\"],[0.5555555555555556,\"#d8576b\"],[0.6666666666666666,\"#ed7953\"],[0.7777777777777778,\"#fb9f3a\"],[0.8888888888888888,\"#fdca26\"],[1.0,\"#f0f921\"]]}],\"heatmap\":[{\"type\":\"heatmap\",\"colorbar\":{\"outlinewidth\":0,\"ticks\":\"\"},\"colorscale\":[[0.0,\"#0d0887\"],[0.1111111111111111,\"#46039f\"],[0.2222222222222222,\"#7201a8\"],[0.3333333333333333,\"#9c179e\"],[0.4444444444444444,\"#bd3786\"],[0.5555555555555556,\"#d8576b\"],[0.6666666666666666,\"#ed7953\"],[0.7777777777777778,\"#fb9f3a\"],[0.8888888888888888,\"#fdca26\"],[1.0,\"#f0f921\"]]}],\"heatmapgl\":[{\"type\":\"heatmapgl\",\"colorbar\":{\"outlinewidth\":0,\"ticks\":\"\"},\"colorscale\":[[0.0,\"#0d0887\"],[0.1111111111111111,\"#46039f\"],[0.2222222222222222,\"#7201a8\"],[0.3333333333333333,\"#9c179e\"],[0.4444444444444444,\"#bd3786\"],[0.5555555555555556,\"#d8576b\"],[0.6666666666666666,\"#ed7953\"],[0.7777777777777778,\"#fb9f3a\"],[0.8888888888888888,\"#fdca26\"],[1.0,\"#f0f921\"]]}],\"contourcarpet\":[{\"type\":\"contourcarpet\",\"colorbar\":{\"outlinewidth\":0,\"ticks\":\"\"}}],\"contour\":[{\"type\":\"contour\",\"colorbar\":{\"outlinewidth\":0,\"ticks\":\"\"},\"colorscale\":[[0.0,\"#0d0887\"],[0.1111111111111111,\"#46039f\"],[0.2222222222222222,\"#7201a8\"],[0.3333333333333333,\"#9c179e\"],[0.4444444444444444,\"#bd3786\"],[0.5555555555555556,\"#d8576b\"],[0.6666666666666666,\"#ed7953\"],[0.7777777777777778,\"#fb9f3a\"],[0.8888888888888888,\"#fdca26\"],[1.0,\"#f0f921\"]]}],\"surface\":[{\"type\":\"surface\",\"colorbar\":{\"outlinewidth\":0,\"ticks\":\"\"},\"colorscale\":[[0.0,\"#0d0887\"],[0.1111111111111111,\"#46039f\"],[0.2222222222222222,\"#7201a8\"],[0.3333333333333333,\"#9c179e\"],[0.4444444444444444,\"#bd3786\"],[0.5555555555555556,\"#d8576b\"],[0.6666666666666666,\"#ed7953\"],[0.7777777777777778,\"#fb9f3a\"],[0.8888888888888888,\"#fdca26\"],[1.0,\"#f0f921\"]]}],\"mesh3d\":[{\"type\":\"mesh3d\",\"colorbar\":{\"outlinewidth\":0,\"ticks\":\"\"}}],\"scatter\":[{\"fillpattern\":{\"fillmode\":\"overlay\",\"size\":10,\"solidity\":0.2},\"type\":\"scatter\"}],\"parcoords\":[{\"type\":\"parcoords\",\"line\":{\"colorbar\":{\"outlinewidth\":0,\"ticks\":\"\"}}}],\"scatterpolargl\":[{\"type\":\"scatterpolargl\",\"marker\":{\"colorbar\":{\"outlinewidth\":0,\"ticks\":\"\"}}}],\"bar\":[{\"error_x\":{\"color\":\"#2a3f5f\"},\"error_y\":{\"color\":\"#2a3f5f\"},\"marker\":{\"line\":{\"color\":\"#E5ECF6\",\"width\":0.5},\"pattern\":{\"fillmode\":\"overlay\",\"size\":10,\"solidity\":0.2}},\"type\":\"bar\"}],\"scattergeo\":[{\"type\":\"scattergeo\",\"marker\":{\"colorbar\":{\"outlinewidth\":0,\"ticks\":\"\"}}}],\"scatterpolar\":[{\"type\":\"scatterpolar\",\"marker\":{\"colorbar\":{\"outlinewidth\":0,\"ticks\":\"\"}}}],\"histogram\":[{\"marker\":{\"pattern\":{\"fillmode\":\"overlay\",\"size\":10,\"solidity\":0.2}},\"type\":\"histogram\"}],\"scattergl\":[{\"type\":\"scattergl\",\"marker\":{\"colorbar\":{\"outlinewidth\":0,\"ticks\":\"\"}}}],\"scatter3d\":[{\"type\":\"scatter3d\",\"line\":{\"colorbar\":{\"outlinewidth\":0,\"ticks\":\"\"}},\"marker\":{\"colorbar\":{\"outlinewidth\":0,\"ticks\":\"\"}}}],\"scattermapbox\":[{\"type\":\"scattermapbox\",\"marker\":{\"colorbar\":{\"outlinewidth\":0,\"ticks\":\"\"}}}],\"scatterternary\":[{\"type\":\"scatterternary\",\"marker\":{\"colorbar\":{\"outlinewidth\":0,\"ticks\":\"\"}}}],\"scattercarpet\":[{\"type\":\"scattercarpet\",\"marker\":{\"colorbar\":{\"outlinewidth\":0,\"ticks\":\"\"}}}],\"carpet\":[{\"aaxis\":{\"endlinecolor\":\"#2a3f5f\",\"gridcolor\":\"white\",\"linecolor\":\"white\",\"minorgridcolor\":\"white\",\"startlinecolor\":\"#2a3f5f\"},\"baxis\":{\"endlinecolor\":\"#2a3f5f\",\"gridcolor\":\"white\",\"linecolor\":\"white\",\"minorgridcolor\":\"white\",\"startlinecolor\":\"#2a3f5f\"},\"type\":\"carpet\"}],\"table\":[{\"cells\":{\"fill\":{\"color\":\"#EBF0F8\"},\"line\":{\"color\":\"white\"}},\"header\":{\"fill\":{\"color\":\"#C8D4E3\"},\"line\":{\"color\":\"white\"}},\"type\":\"table\"}],\"barpolar\":[{\"marker\":{\"line\":{\"color\":\"#E5ECF6\",\"width\":0.5},\"pattern\":{\"fillmode\":\"overlay\",\"size\":10,\"solidity\":0.2}},\"type\":\"barpolar\"}],\"pie\":[{\"automargin\":true,\"type\":\"pie\"}]},\"layout\":{\"autotypenumbers\":\"strict\",\"colorway\":[\"#636efa\",\"#EF553B\",\"#00cc96\",\"#ab63fa\",\"#FFA15A\",\"#19d3f3\",\"#FF6692\",\"#B6E880\",\"#FF97FF\",\"#FECB52\"],\"font\":{\"color\":\"#2a3f5f\"},\"hovermode\":\"closest\",\"hoverlabel\":{\"align\":\"left\"},\"paper_bgcolor\":\"white\",\"plot_bgcolor\":\"#E5ECF6\",\"polar\":{\"bgcolor\":\"#E5ECF6\",\"angularaxis\":{\"gridcolor\":\"white\",\"linecolor\":\"white\",\"ticks\":\"\"},\"radialaxis\":{\"gridcolor\":\"white\",\"linecolor\":\"white\",\"ticks\":\"\"}},\"ternary\":{\"bgcolor\":\"#E5ECF6\",\"aaxis\":{\"gridcolor\":\"white\",\"linecolor\":\"white\",\"ticks\":\"\"},\"baxis\":{\"gridcolor\":\"white\",\"linecolor\":\"white\",\"ticks\":\"\"},\"caxis\":{\"gridcolor\":\"white\",\"linecolor\":\"white\",\"ticks\":\"\"}},\"coloraxis\":{\"colorbar\":{\"outlinewidth\":0,\"ticks\":\"\"}},\"colorscale\":{\"sequential\":[[0.0,\"#0d0887\"],[0.1111111111111111,\"#46039f\"],[0.2222222222222222,\"#7201a8\"],[0.3333333333333333,\"#9c179e\"],[0.4444444444444444,\"#bd3786\"],[0.5555555555555556,\"#d8576b\"],[0.6666666666666666,\"#ed7953\"],[0.7777777777777778,\"#fb9f3a\"],[0.8888888888888888,\"#fdca26\"],[1.0,\"#f0f921\"]],\"sequentialminus\":[[0.0,\"#0d0887\"],[0.1111111111111111,\"#46039f\"],[0.2222222222222222,\"#7201a8\"],[0.3333333333333333,\"#9c179e\"],[0.4444444444444444,\"#bd3786\"],[0.5555555555555556,\"#d8576b\"],[0.6666666666666666,\"#ed7953\"],[0.7777777777777778,\"#fb9f3a\"],[0.8888888888888888,\"#fdca26\"],[1.0,\"#f0f921\"]],\"diverging\":[[0,\"#8e0152\"],[0.1,\"#c51b7d\"],[0.2,\"#de77ae\"],[0.3,\"#f1b6da\"],[0.4,\"#fde0ef\"],[0.5,\"#f7f7f7\"],[0.6,\"#e6f5d0\"],[0.7,\"#b8e186\"],[0.8,\"#7fbc41\"],[0.9,\"#4d9221\"],[1,\"#276419\"]]},\"xaxis\":{\"gridcolor\":\"white\",\"linecolor\":\"white\",\"ticks\":\"\",\"title\":{\"standoff\":15},\"zerolinecolor\":\"white\",\"automargin\":true,\"zerolinewidth\":2},\"yaxis\":{\"gridcolor\":\"white\",\"linecolor\":\"white\",\"ticks\":\"\",\"title\":{\"standoff\":15},\"zerolinecolor\":\"white\",\"automargin\":true,\"zerolinewidth\":2},\"scene\":{\"xaxis\":{\"backgroundcolor\":\"#E5ECF6\",\"gridcolor\":\"white\",\"linecolor\":\"white\",\"showbackground\":true,\"ticks\":\"\",\"zerolinecolor\":\"white\",\"gridwidth\":2},\"yaxis\":{\"backgroundcolor\":\"#E5ECF6\",\"gridcolor\":\"white\",\"linecolor\":\"white\",\"showbackground\":true,\"ticks\":\"\",\"zerolinecolor\":\"white\",\"gridwidth\":2},\"zaxis\":{\"backgroundcolor\":\"#E5ECF6\",\"gridcolor\":\"white\",\"linecolor\":\"white\",\"showbackground\":true,\"ticks\":\"\",\"zerolinecolor\":\"white\",\"gridwidth\":2}},\"shapedefaults\":{\"line\":{\"color\":\"#2a3f5f\"}},\"annotationdefaults\":{\"arrowcolor\":\"#2a3f5f\",\"arrowhead\":0,\"arrowwidth\":1},\"geo\":{\"bgcolor\":\"white\",\"landcolor\":\"#E5ECF6\",\"subunitcolor\":\"white\",\"showland\":true,\"showlakes\":true,\"lakecolor\":\"white\"},\"title\":{\"x\":0.05},\"mapbox\":{\"style\":\"light\"}}},\"xaxis\":{\"anchor\":\"y\",\"domain\":[0.0,1.0],\"title\":{\"text\":\"index\"}},\"yaxis\":{\"anchor\":\"x\",\"domain\":[0.0,1.0],\"title\":{\"text\":\"value\"}},\"legend\":{\"title\":{\"text\":\"variable\"},\"tracegroupgap\":0},\"margin\":{\"t\":60},\"barmode\":\"relative\"},                        {\"responsive\": true}                    ).then(function(){\n",
       "                            \n",
       "var gd = document.getElementById('c518cc45-05e4-42ea-9b49-f86c7bbe6043');\n",
       "var x = new MutationObserver(function (mutations, observer) {{\n",
       "        var display = window.getComputedStyle(gd).display;\n",
       "        if (!display || display === 'none') {{\n",
       "            console.log([gd, 'removed!']);\n",
       "            Plotly.purge(gd);\n",
       "            observer.disconnect();\n",
       "        }}\n",
       "}});\n",
       "\n",
       "// Listen for the removal of the full notebook cells\n",
       "var notebookContainer = gd.closest('#notebook-container');\n",
       "if (notebookContainer) {{\n",
       "    x.observe(notebookContainer, {childList: true});\n",
       "}}\n",
       "\n",
       "// Listen for the clearing of the current output cell\n",
       "var outputEl = gd.closest('.output');\n",
       "if (outputEl) {{\n",
       "    x.observe(outputEl, {childList: true});\n",
       "}}\n",
       "\n",
       "                        })                };                });            </script>        </div>"
      ]
     },
     "metadata": {},
     "output_type": "display_data"
    }
   ],
   "source": [
    "distribuicao_fonte_tce = tce_ml.DEFonteTCE.value_counts(normalize=True).reset_index()\n",
    "display(distribuicao_fonte_tce)\n",
    "\n",
    "fig = px.bar(distribuicao_fonte_tce.DEFonteTCE)\n",
    "display(fig)"
   ]
  },
  {
   "cell_type": "code",
   "execution_count": 26,
   "id": "a638273f",
   "metadata": {},
   "outputs": [
    {
     "data": {
      "text/html": [
       "<div>\n",
       "<style scoped>\n",
       "    .dataframe tbody tr th:only-of-type {\n",
       "        vertical-align: middle;\n",
       "    }\n",
       "\n",
       "    .dataframe tbody tr th {\n",
       "        vertical-align: top;\n",
       "    }\n",
       "\n",
       "    .dataframe thead th {\n",
       "        text-align: right;\n",
       "    }\n",
       "</style>\n",
       "<table border=\"1\" class=\"dataframe\">\n",
       "  <thead>\n",
       "    <tr style=\"text-align: right;\">\n",
       "      <th></th>\n",
       "      <th>F0</th>\n",
       "      <th>F1</th>\n",
       "      <th>F2</th>\n",
       "      <th>F3</th>\n",
       "      <th>F4</th>\n",
       "      <th>F5</th>\n",
       "      <th>F6</th>\n",
       "      <th>F7</th>\n",
       "      <th>F8</th>\n",
       "      <th>F9</th>\n",
       "      <th>...</th>\n",
       "      <th>F758</th>\n",
       "      <th>F759</th>\n",
       "      <th>F760</th>\n",
       "      <th>F761</th>\n",
       "      <th>F762</th>\n",
       "      <th>F763</th>\n",
       "      <th>F764</th>\n",
       "      <th>F765</th>\n",
       "      <th>F766</th>\n",
       "      <th>F767</th>\n",
       "    </tr>\n",
       "  </thead>\n",
       "  <tbody>\n",
       "    <tr>\n",
       "      <th>0</th>\n",
       "      <td>0.374859</td>\n",
       "      <td>-0.355990</td>\n",
       "      <td>0.879074</td>\n",
       "      <td>-0.276560</td>\n",
       "      <td>0.890596</td>\n",
       "      <td>0.378356</td>\n",
       "      <td>0.287249</td>\n",
       "      <td>0.156563</td>\n",
       "      <td>0.514426</td>\n",
       "      <td>0.319978</td>\n",
       "      <td>...</td>\n",
       "      <td>-0.201854</td>\n",
       "      <td>-0.462453</td>\n",
       "      <td>-0.653172</td>\n",
       "      <td>-0.121306</td>\n",
       "      <td>0.347493</td>\n",
       "      <td>0.287559</td>\n",
       "      <td>-0.113759</td>\n",
       "      <td>0.342992</td>\n",
       "      <td>-0.129540</td>\n",
       "      <td>0.349259</td>\n",
       "    </tr>\n",
       "    <tr>\n",
       "      <th>1</th>\n",
       "      <td>0.265291</td>\n",
       "      <td>0.068703</td>\n",
       "      <td>0.750341</td>\n",
       "      <td>-0.060533</td>\n",
       "      <td>0.954906</td>\n",
       "      <td>0.573185</td>\n",
       "      <td>0.270869</td>\n",
       "      <td>0.163694</td>\n",
       "      <td>0.153029</td>\n",
       "      <td>0.427151</td>\n",
       "      <td>...</td>\n",
       "      <td>-0.202540</td>\n",
       "      <td>-0.730261</td>\n",
       "      <td>-0.407751</td>\n",
       "      <td>0.037137</td>\n",
       "      <td>0.645356</td>\n",
       "      <td>0.484363</td>\n",
       "      <td>-0.199481</td>\n",
       "      <td>0.239201</td>\n",
       "      <td>-0.393485</td>\n",
       "      <td>0.286100</td>\n",
       "    </tr>\n",
       "    <tr>\n",
       "      <th>2</th>\n",
       "      <td>0.290201</td>\n",
       "      <td>0.049243</td>\n",
       "      <td>0.756773</td>\n",
       "      <td>-0.080436</td>\n",
       "      <td>1.047454</td>\n",
       "      <td>0.335303</td>\n",
       "      <td>0.526496</td>\n",
       "      <td>0.036686</td>\n",
       "      <td>0.301992</td>\n",
       "      <td>0.512087</td>\n",
       "      <td>...</td>\n",
       "      <td>-0.286225</td>\n",
       "      <td>-0.606716</td>\n",
       "      <td>-0.433432</td>\n",
       "      <td>0.120021</td>\n",
       "      <td>0.663979</td>\n",
       "      <td>0.762440</td>\n",
       "      <td>-0.308434</td>\n",
       "      <td>0.527319</td>\n",
       "      <td>-0.317191</td>\n",
       "      <td>0.241087</td>\n",
       "    </tr>\n",
       "    <tr>\n",
       "      <th>3</th>\n",
       "      <td>0.474922</td>\n",
       "      <td>0.074208</td>\n",
       "      <td>1.034273</td>\n",
       "      <td>-0.030208</td>\n",
       "      <td>0.773727</td>\n",
       "      <td>0.299223</td>\n",
       "      <td>0.333751</td>\n",
       "      <td>0.073844</td>\n",
       "      <td>0.554678</td>\n",
       "      <td>0.487423</td>\n",
       "      <td>...</td>\n",
       "      <td>0.192715</td>\n",
       "      <td>-0.379011</td>\n",
       "      <td>-0.155515</td>\n",
       "      <td>0.170225</td>\n",
       "      <td>0.227142</td>\n",
       "      <td>0.636074</td>\n",
       "      <td>-0.282616</td>\n",
       "      <td>0.559989</td>\n",
       "      <td>-0.265717</td>\n",
       "      <td>-0.144155</td>\n",
       "    </tr>\n",
       "    <tr>\n",
       "      <th>4</th>\n",
       "      <td>0.374859</td>\n",
       "      <td>-0.355990</td>\n",
       "      <td>0.879074</td>\n",
       "      <td>-0.276560</td>\n",
       "      <td>0.890596</td>\n",
       "      <td>0.378356</td>\n",
       "      <td>0.287249</td>\n",
       "      <td>0.156563</td>\n",
       "      <td>0.514426</td>\n",
       "      <td>0.319978</td>\n",
       "      <td>...</td>\n",
       "      <td>-0.201854</td>\n",
       "      <td>-0.462453</td>\n",
       "      <td>-0.653172</td>\n",
       "      <td>-0.121306</td>\n",
       "      <td>0.347493</td>\n",
       "      <td>0.287559</td>\n",
       "      <td>-0.113759</td>\n",
       "      <td>0.342992</td>\n",
       "      <td>-0.129540</td>\n",
       "      <td>0.349259</td>\n",
       "    </tr>\n",
       "    <tr>\n",
       "      <th>...</th>\n",
       "      <td>...</td>\n",
       "      <td>...</td>\n",
       "      <td>...</td>\n",
       "      <td>...</td>\n",
       "      <td>...</td>\n",
       "      <td>...</td>\n",
       "      <td>...</td>\n",
       "      <td>...</td>\n",
       "      <td>...</td>\n",
       "      <td>...</td>\n",
       "      <td>...</td>\n",
       "      <td>...</td>\n",
       "      <td>...</td>\n",
       "      <td>...</td>\n",
       "      <td>...</td>\n",
       "      <td>...</td>\n",
       "      <td>...</td>\n",
       "      <td>...</td>\n",
       "      <td>...</td>\n",
       "      <td>...</td>\n",
       "      <td>...</td>\n",
       "    </tr>\n",
       "    <tr>\n",
       "      <th>209168</th>\n",
       "      <td>0.377154</td>\n",
       "      <td>-0.470555</td>\n",
       "      <td>0.702630</td>\n",
       "      <td>-0.111019</td>\n",
       "      <td>0.691515</td>\n",
       "      <td>0.172321</td>\n",
       "      <td>-0.307324</td>\n",
       "      <td>0.575841</td>\n",
       "      <td>0.457927</td>\n",
       "      <td>0.400745</td>\n",
       "      <td>...</td>\n",
       "      <td>-0.327506</td>\n",
       "      <td>-0.273192</td>\n",
       "      <td>-0.600196</td>\n",
       "      <td>0.182716</td>\n",
       "      <td>0.434408</td>\n",
       "      <td>0.292839</td>\n",
       "      <td>-0.104905</td>\n",
       "      <td>0.141586</td>\n",
       "      <td>0.004000</td>\n",
       "      <td>0.118608</td>\n",
       "    </tr>\n",
       "    <tr>\n",
       "      <th>209169</th>\n",
       "      <td>0.511300</td>\n",
       "      <td>-0.121021</td>\n",
       "      <td>0.897727</td>\n",
       "      <td>-0.209290</td>\n",
       "      <td>0.872651</td>\n",
       "      <td>0.491595</td>\n",
       "      <td>0.249380</td>\n",
       "      <td>0.240569</td>\n",
       "      <td>0.195053</td>\n",
       "      <td>0.328241</td>\n",
       "      <td>...</td>\n",
       "      <td>-0.357738</td>\n",
       "      <td>-0.409742</td>\n",
       "      <td>-0.580369</td>\n",
       "      <td>0.071413</td>\n",
       "      <td>0.721721</td>\n",
       "      <td>0.628019</td>\n",
       "      <td>-0.007405</td>\n",
       "      <td>0.036193</td>\n",
       "      <td>-0.284393</td>\n",
       "      <td>0.156770</td>\n",
       "    </tr>\n",
       "    <tr>\n",
       "      <th>209170</th>\n",
       "      <td>0.282660</td>\n",
       "      <td>-0.451844</td>\n",
       "      <td>0.781164</td>\n",
       "      <td>-0.247282</td>\n",
       "      <td>0.800144</td>\n",
       "      <td>0.172179</td>\n",
       "      <td>-0.091117</td>\n",
       "      <td>0.451921</td>\n",
       "      <td>0.112741</td>\n",
       "      <td>0.447550</td>\n",
       "      <td>...</td>\n",
       "      <td>-0.374027</td>\n",
       "      <td>-0.513144</td>\n",
       "      <td>-0.577108</td>\n",
       "      <td>-0.009710</td>\n",
       "      <td>0.862981</td>\n",
       "      <td>0.533980</td>\n",
       "      <td>-0.093446</td>\n",
       "      <td>0.061105</td>\n",
       "      <td>-0.073697</td>\n",
       "      <td>-0.021309</td>\n",
       "    </tr>\n",
       "    <tr>\n",
       "      <th>209171</th>\n",
       "      <td>0.329787</td>\n",
       "      <td>-0.525615</td>\n",
       "      <td>0.764593</td>\n",
       "      <td>-0.180871</td>\n",
       "      <td>0.818519</td>\n",
       "      <td>0.215418</td>\n",
       "      <td>-0.236186</td>\n",
       "      <td>0.569049</td>\n",
       "      <td>0.364163</td>\n",
       "      <td>0.340847</td>\n",
       "      <td>...</td>\n",
       "      <td>-0.291371</td>\n",
       "      <td>-0.408480</td>\n",
       "      <td>-0.601665</td>\n",
       "      <td>0.288301</td>\n",
       "      <td>0.590431</td>\n",
       "      <td>0.412432</td>\n",
       "      <td>-0.149814</td>\n",
       "      <td>0.191954</td>\n",
       "      <td>-0.042346</td>\n",
       "      <td>0.045932</td>\n",
       "    </tr>\n",
       "    <tr>\n",
       "      <th>209172</th>\n",
       "      <td>0.329787</td>\n",
       "      <td>-0.525615</td>\n",
       "      <td>0.764593</td>\n",
       "      <td>-0.180871</td>\n",
       "      <td>0.818519</td>\n",
       "      <td>0.215418</td>\n",
       "      <td>-0.236186</td>\n",
       "      <td>0.569049</td>\n",
       "      <td>0.364163</td>\n",
       "      <td>0.340847</td>\n",
       "      <td>...</td>\n",
       "      <td>-0.291371</td>\n",
       "      <td>-0.408480</td>\n",
       "      <td>-0.601665</td>\n",
       "      <td>0.288301</td>\n",
       "      <td>0.590431</td>\n",
       "      <td>0.412432</td>\n",
       "      <td>-0.149814</td>\n",
       "      <td>0.191954</td>\n",
       "      <td>-0.042346</td>\n",
       "      <td>0.045932</td>\n",
       "    </tr>\n",
       "  </tbody>\n",
       "</table>\n",
       "<p>209173 rows × 768 columns</p>\n",
       "</div>"
      ],
      "text/plain": [
       "              F0        F1        F2        F3        F4        F5        F6  \\\n",
       "0       0.374859 -0.355990  0.879074 -0.276560  0.890596  0.378356  0.287249   \n",
       "1       0.265291  0.068703  0.750341 -0.060533  0.954906  0.573185  0.270869   \n",
       "2       0.290201  0.049243  0.756773 -0.080436  1.047454  0.335303  0.526496   \n",
       "3       0.474922  0.074208  1.034273 -0.030208  0.773727  0.299223  0.333751   \n",
       "4       0.374859 -0.355990  0.879074 -0.276560  0.890596  0.378356  0.287249   \n",
       "...          ...       ...       ...       ...       ...       ...       ...   \n",
       "209168  0.377154 -0.470555  0.702630 -0.111019  0.691515  0.172321 -0.307324   \n",
       "209169  0.511300 -0.121021  0.897727 -0.209290  0.872651  0.491595  0.249380   \n",
       "209170  0.282660 -0.451844  0.781164 -0.247282  0.800144  0.172179 -0.091117   \n",
       "209171  0.329787 -0.525615  0.764593 -0.180871  0.818519  0.215418 -0.236186   \n",
       "209172  0.329787 -0.525615  0.764593 -0.180871  0.818519  0.215418 -0.236186   \n",
       "\n",
       "              F7        F8        F9  ...      F758      F759      F760  \\\n",
       "0       0.156563  0.514426  0.319978  ... -0.201854 -0.462453 -0.653172   \n",
       "1       0.163694  0.153029  0.427151  ... -0.202540 -0.730261 -0.407751   \n",
       "2       0.036686  0.301992  0.512087  ... -0.286225 -0.606716 -0.433432   \n",
       "3       0.073844  0.554678  0.487423  ...  0.192715 -0.379011 -0.155515   \n",
       "4       0.156563  0.514426  0.319978  ... -0.201854 -0.462453 -0.653172   \n",
       "...          ...       ...       ...  ...       ...       ...       ...   \n",
       "209168  0.575841  0.457927  0.400745  ... -0.327506 -0.273192 -0.600196   \n",
       "209169  0.240569  0.195053  0.328241  ... -0.357738 -0.409742 -0.580369   \n",
       "209170  0.451921  0.112741  0.447550  ... -0.374027 -0.513144 -0.577108   \n",
       "209171  0.569049  0.364163  0.340847  ... -0.291371 -0.408480 -0.601665   \n",
       "209172  0.569049  0.364163  0.340847  ... -0.291371 -0.408480 -0.601665   \n",
       "\n",
       "            F761      F762      F763      F764      F765      F766      F767  \n",
       "0      -0.121306  0.347493  0.287559 -0.113759  0.342992 -0.129540  0.349259  \n",
       "1       0.037137  0.645356  0.484363 -0.199481  0.239201 -0.393485  0.286100  \n",
       "2       0.120021  0.663979  0.762440 -0.308434  0.527319 -0.317191  0.241087  \n",
       "3       0.170225  0.227142  0.636074 -0.282616  0.559989 -0.265717 -0.144155  \n",
       "4      -0.121306  0.347493  0.287559 -0.113759  0.342992 -0.129540  0.349259  \n",
       "...          ...       ...       ...       ...       ...       ...       ...  \n",
       "209168  0.182716  0.434408  0.292839 -0.104905  0.141586  0.004000  0.118608  \n",
       "209169  0.071413  0.721721  0.628019 -0.007405  0.036193 -0.284393  0.156770  \n",
       "209170 -0.009710  0.862981  0.533980 -0.093446  0.061105 -0.073697 -0.021309  \n",
       "209171  0.288301  0.590431  0.412432 -0.149814  0.191954 -0.042346  0.045932  \n",
       "209172  0.288301  0.590431  0.412432 -0.149814  0.191954 -0.042346  0.045932  \n",
       "\n",
       "[209173 rows x 768 columns]"
      ]
     },
     "execution_count": 26,
     "metadata": {},
     "output_type": "execute_result"
    }
   ],
   "source": [
    "embeddings = pd.read_parquet('data/historico-word-embeddings-cls-state.parquet')\n",
    "embeddings"
   ]
  },
  {
   "cell_type": "code",
   "execution_count": 27,
   "id": "da566072",
   "metadata": {},
   "outputs": [],
   "source": [
    "embeddings.to_csv('data/embeddings.tsv',index=False, header=False, sep='\\t')"
   ]
  }
 ],
 "metadata": {
  "kernelspec": {
   "display_name": "Python 3 (ipykernel)",
   "language": "python",
   "name": "python3"
  },
  "language_info": {
   "codemirror_mode": {
    "name": "ipython",
    "version": 3
   },
   "file_extension": ".py",
   "mimetype": "text/x-python",
   "name": "python",
   "nbconvert_exporter": "python",
   "pygments_lexer": "ipython3",
   "version": "3.10.9"
  }
 },
 "nbformat": 4,
 "nbformat_minor": 5
}
